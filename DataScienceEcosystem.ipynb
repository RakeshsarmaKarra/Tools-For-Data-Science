{
 "cells": [
  {
   "cell_type": "markdown",
   "id": "bb775c5d",
   "metadata": {},
   "source": [
    "# Data Science Tools and Ecosystem"
   ]
  },
  {
   "cell_type": "markdown",
   "id": "7d18293d",
   "metadata": {},
   "source": [
    "In this notebook, Data Science Tools and Ecosystem are summarized."
   ]
  },
  {
   "cell_type": "markdown",
   "id": "bf4749d7",
   "metadata": {},
   "source": [
    "**Objectives:**\n",
    "unordered list:\n",
    "* Data Science Tools\n",
    "    * Goggle Collab\n",
    "    * Jupyter\n",
    "    * GitHub\n",
    "* Data Science Languages\n",
    "    - Python\n",
    "    - R\n",
    "    - Sql\n",
    "\n",
    "* Data Science Libraries\n",
    "    - Model Selection\n",
    "    - Seaborn\n",
    "    - Matplotlib\n"
   ]
  },
  {
   "cell_type": "markdown",
   "id": "0caa1596",
   "metadata": {},
   "source": [
    "Some of the popular languages that Data Scientists use are:\n",
    "ordered list:\n",
    "1. Python Programming Language\n",
    "2. R - Programming Language\n",
    "3. SQL - Structured Query Language"
   ]
  },
  {
   "cell_type": "markdown",
   "id": "08b5b40f",
   "metadata": {},
   "source": [
    "Some of the commonly used libraries used by Data Scientists include:\n",
    "ordered list:\n",
    "* Pandas\n",
    "* Numpy\n",
    "* Metrics"
   ]
  },
  {
   "cell_type": "markdown",
   "id": "73c214c9",
   "metadata": {},
   "source": [
    "| Data Science Tools |\n",
    "| ------------------ | \n",
    "| Google Collab |\n",
    "| Jupyter |\n",
    "| Hive |"
   ]
  },
  {
   "cell_type": "markdown",
   "id": "0bef8333",
   "metadata": {},
   "source": [
    "### Below are a few examples of evaluating arithmetic expressions in Python"
   ]
  },
  {
   "cell_type": "code",
   "execution_count": 6,
   "id": "d1375561",
   "metadata": {},
   "outputs": [
    {
     "data": {
      "text/plain": [
       "17"
      ]
     },
     "execution_count": 6,
     "metadata": {},
     "output_type": "execute_result"
    }
   ],
   "source": [
    "#This a simple arithmetic expression to mutiply then add integers\n",
    "(3*4)+5"
   ]
  },
  {
   "cell_type": "code",
   "execution_count": 8,
   "id": "21d3ce8f",
   "metadata": {
    "scrolled": true
   },
   "outputs": [
    {
     "name": "stdout",
     "output_type": "stream",
     "text": [
      "Minutes to hours conversion: 3.3333333333333335\n"
     ]
    }
   ],
   "source": [
    "#This will convert 200 minutes to hours by diving by 60\n",
    "min_to_hours = 200/60\n",
    "print(f\"Minutes to hours conversion: {min_to_hours}\")"
   ]
  },
  {
   "cell_type": "markdown",
   "id": "e49d4430",
   "metadata": {},
   "source": [
    "## Author\n",
    "Rakeshsarma Karra"
   ]
  },
  {
   "cell_type": "code",
   "execution_count": null,
   "id": "c7897ba6",
   "metadata": {},
   "outputs": [],
   "source": []
  }
 ],
 "metadata": {
  "kernelspec": {
   "display_name": "Python 3 (ipykernel)",
   "language": "python",
   "name": "python3"
  },
  "language_info": {
   "codemirror_mode": {
    "name": "ipython",
    "version": 3
   },
   "file_extension": ".py",
   "mimetype": "text/x-python",
   "name": "python",
   "nbconvert_exporter": "python",
   "pygments_lexer": "ipython3",
   "version": "3.11.4"
  }
 },
 "nbformat": 4,
 "nbformat_minor": 5
}
